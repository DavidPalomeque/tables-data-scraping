{
 "cells": [
  {
   "cell_type": "code",
   "execution_count": 6,
   "id": "9622aca2",
   "metadata": {},
   "outputs": [],
   "source": [
    "import tabula"
   ]
  },
  {
   "cell_type": "code",
   "execution_count": 7,
   "id": "26480f90",
   "metadata": {},
   "outputs": [],
   "source": [
    "pdf_path = \"https://sedl.org/afterschool/toolkits/science/pdf/ast_sci_data_tables_sample.pdf\""
   ]
  },
  {
   "cell_type": "code",
   "execution_count": 8,
   "id": "12bd5445",
   "metadata": {},
   "outputs": [],
   "source": [
    "# extract single table\n",
    "dfs = tabula.read_pdf(pdf_path, pages=\"1\")\n",
    "#print(dfs[0])\n",
    "dfs[0].to_csv(\"single.csv\")"
   ]
  },
  {
   "cell_type": "code",
   "execution_count": 9,
   "id": "71d4f5f4",
   "metadata": {},
   "outputs": [],
   "source": [
    "# extract multiple tables\n",
    "dfs = tabula.read_pdf(pdf_path, pages=\"2\")\n",
    "for i in range (len(dfs)):\n",
    "    dfs[i].to_csv(f\"multiple_0{i}.csv\")"
   ]
  },
  {
   "cell_type": "code",
   "execution_count": 10,
   "id": "0d343d73",
   "metadata": {},
   "outputs": [],
   "source": [
    "# extract all tables\n",
    "dfs = tabula.read_pdf(pdf_path, pages=\"all\")\n",
    "for i in range (len(dfs)):\n",
    "    dfs[i].to_csv(f\"all_0{i}.csv\")"
   ]
  }
 ],
 "metadata": {
  "kernelspec": {
   "display_name": "Python 3 (ipykernel)",
   "language": "python",
   "name": "python3"
  },
  "language_info": {
   "codemirror_mode": {
    "name": "ipython",
    "version": 3
   },
   "file_extension": ".py",
   "mimetype": "text/x-python",
   "name": "python",
   "nbconvert_exporter": "python",
   "pygments_lexer": "ipython3",
   "version": "3.8.5"
  }
 },
 "nbformat": 4,
 "nbformat_minor": 5
}
