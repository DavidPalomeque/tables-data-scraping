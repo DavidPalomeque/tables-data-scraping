{
 "cells": [
  {
   "cell_type": "code",
   "execution_count": null,
   "id": "eaa1c48d",
   "metadata": {},
   "outputs": [],
   "source": [
    "!pip install pandas"
   ]
  },
  {
   "cell_type": "code",
   "execution_count": 4,
   "id": "09d6481f",
   "metadata": {},
   "outputs": [],
   "source": [
    "import pandas as pa"
   ]
  },
  {
   "cell_type": "code",
   "execution_count": 6,
   "id": "b14f0378",
   "metadata": {},
   "outputs": [],
   "source": [
    "seasons = pa.read_html(\"https://en.wikipedia.org/wiki/List_of_The_Simpsons_episodes_(seasons_1%E2%80%9320)\")"
   ]
  },
  {
   "cell_type": "code",
   "execution_count": null,
   "id": "e4d334c0",
   "metadata": {},
   "outputs": [],
   "source": [
    "len(seasons)"
   ]
  },
  {
   "cell_type": "code",
   "execution_count": null,
   "id": "67f5e317",
   "metadata": {},
   "outputs": [],
   "source": [
    "seasons[1]"
   ]
  }
 ],
 "metadata": {
  "kernelspec": {
   "display_name": "Python 3 (ipykernel)",
   "language": "python",
   "name": "python3"
  },
  "language_info": {
   "codemirror_mode": {
    "name": "ipython",
    "version": 3
   },
   "file_extension": ".py",
   "mimetype": "text/x-python",
   "name": "python",
   "nbconvert_exporter": "python",
   "pygments_lexer": "ipython3",
   "version": "3.8.5"
  }
 },
 "nbformat": 4,
 "nbformat_minor": 5
}
