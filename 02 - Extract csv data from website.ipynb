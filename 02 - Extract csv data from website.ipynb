{
 "cells": [
  {
   "cell_type": "code",
   "execution_count": 1,
   "id": "85e219da",
   "metadata": {},
   "outputs": [],
   "source": [
    "import pandas as pa"
   ]
  },
  {
   "cell_type": "code",
   "execution_count": null,
   "id": "ecc5bdf8",
   "metadata": {},
   "outputs": [],
   "source": [
    "# website: https://www.football-data.co.uk/englandm.php\n",
    "# read one csv file from website\n",
    "epl2122 = pa.read_csv(\"https://www.football-data.co.uk/mmz4281/2122/E0.csv\")\n",
    "epl2122"
   ]
  },
  {
   "cell_type": "code",
   "execution_count": null,
   "id": "daa3f1f2",
   "metadata": {},
   "outputs": [],
   "source": [
    "# modify csv data by renaming unclear column names\n",
    "epl2122.rename(columns={'FTHG':'home_goals', 'FTAG':'away_goals'}, inplace = True)\n",
    "epl2122"
   ]
  }
 ],
 "metadata": {
  "kernelspec": {
   "display_name": "Python 3 (ipykernel)",
   "language": "python",
   "name": "python3"
  },
  "language_info": {
   "codemirror_mode": {
    "name": "ipython",
    "version": 3
   },
   "file_extension": ".py",
   "mimetype": "text/x-python",
   "name": "python",
   "nbconvert_exporter": "python",
   "pygments_lexer": "ipython3",
   "version": "3.8.5"
  }
 },
 "nbformat": 4,
 "nbformat_minor": 5
}
